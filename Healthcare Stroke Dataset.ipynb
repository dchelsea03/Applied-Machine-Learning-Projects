{
 "cells": [
  {
   "cell_type": "code",
   "execution_count": 1,
   "id": "307055ab",
   "metadata": {},
   "outputs": [],
   "source": [
    "import pandas as pd\n",
    "import matplotlib.pyplot as plt\n",
    "import numpy as np\n",
    "import seaborn as sns\n",
    "%matplotlib inline"
   ]
  },
  {
   "cell_type": "code",
   "execution_count": 2,
   "id": "5cd4a904",
   "metadata": {},
   "outputs": [],
   "source": [
    "from sklearn.tree import DecisionTreeClassifier\n",
    "from sklearn.ensemble import RandomForestClassifier,GradientBoostingClassifier\n",
    "from sklearn.metrics import roc_auc_score,average_precision_score, confusion_matrix, classification_report\n",
    "from sklearn.model_selection import train_test_split,cross_validate\n",
    "from sklearn.preprocessing import OneHotEncoder\n",
    "from sklearn.pipeline import make_pipeline\n",
    "from sklearn.pipeline import Pipeline\n",
    "from sklearn.compose import ColumnTransformer\n",
    "from sklearn.preprocessing import StandardScaler\n",
    "import warnings\n",
    "warnings.filterwarnings('ignore')"
   ]
  },
  {
   "cell_type": "code",
   "execution_count": 3,
   "id": "1b1ee18a",
   "metadata": {},
   "outputs": [],
   "source": [
    "from imblearn.pipeline import Pipeline as imb_pipeline\n",
    "from imblearn.under_sampling import RandomUnderSampler, EditedNearestNeighbours\n",
    "from imblearn.over_sampling import RandomOverSampler, SMOTE"
   ]
  },
  {
   "cell_type": "code",
   "execution_count": 4,
   "id": "e9d90bce",
   "metadata": {},
   "outputs": [
    {
     "data": {
      "text/html": [
       "<div>\n",
       "<style scoped>\n",
       "    .dataframe tbody tr th:only-of-type {\n",
       "        vertical-align: middle;\n",
       "    }\n",
       "\n",
       "    .dataframe tbody tr th {\n",
       "        vertical-align: top;\n",
       "    }\n",
       "\n",
       "    .dataframe thead th {\n",
       "        text-align: right;\n",
       "    }\n",
       "</style>\n",
       "<table border=\"1\" class=\"dataframe\">\n",
       "  <thead>\n",
       "    <tr style=\"text-align: right;\">\n",
       "      <th></th>\n",
       "      <th>id</th>\n",
       "      <th>gender</th>\n",
       "      <th>age</th>\n",
       "      <th>hypertension</th>\n",
       "      <th>heart_disease</th>\n",
       "      <th>ever_married</th>\n",
       "      <th>work_type</th>\n",
       "      <th>Residence_type</th>\n",
       "      <th>avg_glucose_level</th>\n",
       "      <th>bmi</th>\n",
       "      <th>smoking_status</th>\n",
       "      <th>stroke</th>\n",
       "    </tr>\n",
       "  </thead>\n",
       "  <tbody>\n",
       "    <tr>\n",
       "      <th>0</th>\n",
       "      <td>9046</td>\n",
       "      <td>Male</td>\n",
       "      <td>67.0</td>\n",
       "      <td>0</td>\n",
       "      <td>1</td>\n",
       "      <td>Yes</td>\n",
       "      <td>Private</td>\n",
       "      <td>Urban</td>\n",
       "      <td>228.69</td>\n",
       "      <td>36.6</td>\n",
       "      <td>formerly smoked</td>\n",
       "      <td>1</td>\n",
       "    </tr>\n",
       "    <tr>\n",
       "      <th>1</th>\n",
       "      <td>51676</td>\n",
       "      <td>Female</td>\n",
       "      <td>61.0</td>\n",
       "      <td>0</td>\n",
       "      <td>0</td>\n",
       "      <td>Yes</td>\n",
       "      <td>Self-employed</td>\n",
       "      <td>Rural</td>\n",
       "      <td>202.21</td>\n",
       "      <td>NaN</td>\n",
       "      <td>never smoked</td>\n",
       "      <td>1</td>\n",
       "    </tr>\n",
       "    <tr>\n",
       "      <th>2</th>\n",
       "      <td>31112</td>\n",
       "      <td>Male</td>\n",
       "      <td>80.0</td>\n",
       "      <td>0</td>\n",
       "      <td>1</td>\n",
       "      <td>Yes</td>\n",
       "      <td>Private</td>\n",
       "      <td>Rural</td>\n",
       "      <td>105.92</td>\n",
       "      <td>32.5</td>\n",
       "      <td>never smoked</td>\n",
       "      <td>1</td>\n",
       "    </tr>\n",
       "    <tr>\n",
       "      <th>3</th>\n",
       "      <td>60182</td>\n",
       "      <td>Female</td>\n",
       "      <td>49.0</td>\n",
       "      <td>0</td>\n",
       "      <td>0</td>\n",
       "      <td>Yes</td>\n",
       "      <td>Private</td>\n",
       "      <td>Urban</td>\n",
       "      <td>171.23</td>\n",
       "      <td>34.4</td>\n",
       "      <td>smokes</td>\n",
       "      <td>1</td>\n",
       "    </tr>\n",
       "    <tr>\n",
       "      <th>4</th>\n",
       "      <td>1665</td>\n",
       "      <td>Female</td>\n",
       "      <td>79.0</td>\n",
       "      <td>1</td>\n",
       "      <td>0</td>\n",
       "      <td>Yes</td>\n",
       "      <td>Self-employed</td>\n",
       "      <td>Rural</td>\n",
       "      <td>174.12</td>\n",
       "      <td>24.0</td>\n",
       "      <td>never smoked</td>\n",
       "      <td>1</td>\n",
       "    </tr>\n",
       "  </tbody>\n",
       "</table>\n",
       "</div>"
      ],
      "text/plain": [
       "      id  gender   age  hypertension  heart_disease ever_married  \\\n",
       "0   9046    Male  67.0             0              1          Yes   \n",
       "1  51676  Female  61.0             0              0          Yes   \n",
       "2  31112    Male  80.0             0              1          Yes   \n",
       "3  60182  Female  49.0             0              0          Yes   \n",
       "4   1665  Female  79.0             1              0          Yes   \n",
       "\n",
       "       work_type Residence_type  avg_glucose_level   bmi   smoking_status  \\\n",
       "0        Private          Urban             228.69  36.6  formerly smoked   \n",
       "1  Self-employed          Rural             202.21   NaN     never smoked   \n",
       "2        Private          Rural             105.92  32.5     never smoked   \n",
       "3        Private          Urban             171.23  34.4           smokes   \n",
       "4  Self-employed          Rural             174.12  24.0     never smoked   \n",
       "\n",
       "   stroke  \n",
       "0       1  \n",
       "1       1  \n",
       "2       1  \n",
       "3       1  \n",
       "4       1  "
      ]
     },
     "execution_count": 4,
     "metadata": {},
     "output_type": "execute_result"
    }
   ],
   "source": [
    "df=pd.read_csv('https://raw.githubusercontent.com/dchelsea03/Applied-Machine-Learning-Projects/main/healthcare-dataset-stroke-data.csv')\n",
    "df.head()"
   ]
  },
  {
   "cell_type": "code",
   "execution_count": 5,
   "id": "debbd051",
   "metadata": {},
   "outputs": [
    {
     "name": "stdout",
     "output_type": "stream",
     "text": [
      "<class 'pandas.core.frame.DataFrame'>\n",
      "RangeIndex: 5110 entries, 0 to 5109\n",
      "Data columns (total 12 columns):\n",
      " #   Column             Non-Null Count  Dtype  \n",
      "---  ------             --------------  -----  \n",
      " 0   id                 5110 non-null   int64  \n",
      " 1   gender             5110 non-null   object \n",
      " 2   age                5110 non-null   float64\n",
      " 3   hypertension       5110 non-null   int64  \n",
      " 4   heart_disease      5110 non-null   int64  \n",
      " 5   ever_married       5110 non-null   object \n",
      " 6   work_type          5110 non-null   object \n",
      " 7   Residence_type     5110 non-null   object \n",
      " 8   avg_glucose_level  5110 non-null   float64\n",
      " 9   bmi                4909 non-null   float64\n",
      " 10  smoking_status     5110 non-null   object \n",
      " 11  stroke             5110 non-null   int64  \n",
      "dtypes: float64(3), int64(4), object(5)\n",
      "memory usage: 479.2+ KB\n"
     ]
    }
   ],
   "source": [
    "df.info()"
   ]
  },
  {
   "cell_type": "markdown",
   "id": "a0555b7a",
   "metadata": {},
   "source": [
    "Looking at this table, we see that there are some missing data in $bmi$ column. 201 $bmi$ values are missing.\n",
    "Also, some categorical variables (such as stoke, hypertension, heart disease) are being considered as `int64` and not as `object`. We will handle this matter later on by encoding the categorical features.\n",
    "\n",
    "Here, we are dropping the $id$ column since it is not an important factor that will help predict the occurence of a stroke. It is only used to uniquely identify each of the patients."
   ]
  },
  {
   "cell_type": "code",
   "execution_count": 6,
   "id": "488c3c09",
   "metadata": {},
   "outputs": [
    {
     "data": {
      "text/html": [
       "<div>\n",
       "<style scoped>\n",
       "    .dataframe tbody tr th:only-of-type {\n",
       "        vertical-align: middle;\n",
       "    }\n",
       "\n",
       "    .dataframe tbody tr th {\n",
       "        vertical-align: top;\n",
       "    }\n",
       "\n",
       "    .dataframe thead th {\n",
       "        text-align: right;\n",
       "    }\n",
       "</style>\n",
       "<table border=\"1\" class=\"dataframe\">\n",
       "  <thead>\n",
       "    <tr style=\"text-align: right;\">\n",
       "      <th></th>\n",
       "      <th>gender</th>\n",
       "      <th>age</th>\n",
       "      <th>hypertension</th>\n",
       "      <th>heart_disease</th>\n",
       "      <th>ever_married</th>\n",
       "      <th>work_type</th>\n",
       "      <th>Residence_type</th>\n",
       "      <th>avg_glucose_level</th>\n",
       "      <th>bmi</th>\n",
       "      <th>smoking_status</th>\n",
       "      <th>stroke</th>\n",
       "    </tr>\n",
       "  </thead>\n",
       "  <tbody>\n",
       "    <tr>\n",
       "      <th>0</th>\n",
       "      <td>Male</td>\n",
       "      <td>67.0</td>\n",
       "      <td>0</td>\n",
       "      <td>1</td>\n",
       "      <td>Yes</td>\n",
       "      <td>Private</td>\n",
       "      <td>Urban</td>\n",
       "      <td>228.69</td>\n",
       "      <td>36.6</td>\n",
       "      <td>formerly smoked</td>\n",
       "      <td>1</td>\n",
       "    </tr>\n",
       "    <tr>\n",
       "      <th>1</th>\n",
       "      <td>Female</td>\n",
       "      <td>61.0</td>\n",
       "      <td>0</td>\n",
       "      <td>0</td>\n",
       "      <td>Yes</td>\n",
       "      <td>Self-employed</td>\n",
       "      <td>Rural</td>\n",
       "      <td>202.21</td>\n",
       "      <td>NaN</td>\n",
       "      <td>never smoked</td>\n",
       "      <td>1</td>\n",
       "    </tr>\n",
       "    <tr>\n",
       "      <th>2</th>\n",
       "      <td>Male</td>\n",
       "      <td>80.0</td>\n",
       "      <td>0</td>\n",
       "      <td>1</td>\n",
       "      <td>Yes</td>\n",
       "      <td>Private</td>\n",
       "      <td>Rural</td>\n",
       "      <td>105.92</td>\n",
       "      <td>32.5</td>\n",
       "      <td>never smoked</td>\n",
       "      <td>1</td>\n",
       "    </tr>\n",
       "    <tr>\n",
       "      <th>3</th>\n",
       "      <td>Female</td>\n",
       "      <td>49.0</td>\n",
       "      <td>0</td>\n",
       "      <td>0</td>\n",
       "      <td>Yes</td>\n",
       "      <td>Private</td>\n",
       "      <td>Urban</td>\n",
       "      <td>171.23</td>\n",
       "      <td>34.4</td>\n",
       "      <td>smokes</td>\n",
       "      <td>1</td>\n",
       "    </tr>\n",
       "    <tr>\n",
       "      <th>4</th>\n",
       "      <td>Female</td>\n",
       "      <td>79.0</td>\n",
       "      <td>1</td>\n",
       "      <td>0</td>\n",
       "      <td>Yes</td>\n",
       "      <td>Self-employed</td>\n",
       "      <td>Rural</td>\n",
       "      <td>174.12</td>\n",
       "      <td>24.0</td>\n",
       "      <td>never smoked</td>\n",
       "      <td>1</td>\n",
       "    </tr>\n",
       "  </tbody>\n",
       "</table>\n",
       "</div>"
      ],
      "text/plain": [
       "   gender   age  hypertension  heart_disease ever_married      work_type  \\\n",
       "0    Male  67.0             0              1          Yes        Private   \n",
       "1  Female  61.0             0              0          Yes  Self-employed   \n",
       "2    Male  80.0             0              1          Yes        Private   \n",
       "3  Female  49.0             0              0          Yes        Private   \n",
       "4  Female  79.0             1              0          Yes  Self-employed   \n",
       "\n",
       "  Residence_type  avg_glucose_level   bmi   smoking_status  stroke  \n",
       "0          Urban             228.69  36.6  formerly smoked       1  \n",
       "1          Rural             202.21   NaN     never smoked       1  \n",
       "2          Rural             105.92  32.5     never smoked       1  \n",
       "3          Urban             171.23  34.4           smokes       1  \n",
       "4          Rural             174.12  24.0     never smoked       1  "
      ]
     },
     "execution_count": 6,
     "metadata": {},
     "output_type": "execute_result"
    }
   ],
   "source": [
    "df.drop(columns=['id'],inplace=True)\n",
    "df.head()"
   ]
  },
  {
   "cell_type": "code",
   "execution_count": 7,
   "id": "f6d1c810",
   "metadata": {},
   "outputs": [
    {
     "data": {
      "text/html": [
       "<div>\n",
       "<style scoped>\n",
       "    .dataframe tbody tr th:only-of-type {\n",
       "        vertical-align: middle;\n",
       "    }\n",
       "\n",
       "    .dataframe tbody tr th {\n",
       "        vertical-align: top;\n",
       "    }\n",
       "\n",
       "    .dataframe thead th {\n",
       "        text-align: right;\n",
       "    }\n",
       "</style>\n",
       "<table border=\"1\" class=\"dataframe\">\n",
       "  <thead>\n",
       "    <tr style=\"text-align: right;\">\n",
       "      <th></th>\n",
       "      <th>age</th>\n",
       "      <th>hypertension</th>\n",
       "      <th>heart_disease</th>\n",
       "      <th>avg_glucose_level</th>\n",
       "      <th>bmi</th>\n",
       "      <th>stroke</th>\n",
       "    </tr>\n",
       "  </thead>\n",
       "  <tbody>\n",
       "    <tr>\n",
       "      <th>count</th>\n",
       "      <td>5110.000000</td>\n",
       "      <td>5110.000000</td>\n",
       "      <td>5110.000000</td>\n",
       "      <td>5110.000000</td>\n",
       "      <td>4909.000000</td>\n",
       "      <td>5110.000000</td>\n",
       "    </tr>\n",
       "    <tr>\n",
       "      <th>mean</th>\n",
       "      <td>43.226614</td>\n",
       "      <td>0.097456</td>\n",
       "      <td>0.054012</td>\n",
       "      <td>106.147677</td>\n",
       "      <td>28.893237</td>\n",
       "      <td>0.048728</td>\n",
       "    </tr>\n",
       "    <tr>\n",
       "      <th>std</th>\n",
       "      <td>22.612647</td>\n",
       "      <td>0.296607</td>\n",
       "      <td>0.226063</td>\n",
       "      <td>45.283560</td>\n",
       "      <td>7.854067</td>\n",
       "      <td>0.215320</td>\n",
       "    </tr>\n",
       "    <tr>\n",
       "      <th>min</th>\n",
       "      <td>0.080000</td>\n",
       "      <td>0.000000</td>\n",
       "      <td>0.000000</td>\n",
       "      <td>55.120000</td>\n",
       "      <td>10.300000</td>\n",
       "      <td>0.000000</td>\n",
       "    </tr>\n",
       "    <tr>\n",
       "      <th>25%</th>\n",
       "      <td>25.000000</td>\n",
       "      <td>0.000000</td>\n",
       "      <td>0.000000</td>\n",
       "      <td>77.245000</td>\n",
       "      <td>23.500000</td>\n",
       "      <td>0.000000</td>\n",
       "    </tr>\n",
       "    <tr>\n",
       "      <th>50%</th>\n",
       "      <td>45.000000</td>\n",
       "      <td>0.000000</td>\n",
       "      <td>0.000000</td>\n",
       "      <td>91.885000</td>\n",
       "      <td>28.100000</td>\n",
       "      <td>0.000000</td>\n",
       "    </tr>\n",
       "    <tr>\n",
       "      <th>75%</th>\n",
       "      <td>61.000000</td>\n",
       "      <td>0.000000</td>\n",
       "      <td>0.000000</td>\n",
       "      <td>114.090000</td>\n",
       "      <td>33.100000</td>\n",
       "      <td>0.000000</td>\n",
       "    </tr>\n",
       "    <tr>\n",
       "      <th>max</th>\n",
       "      <td>82.000000</td>\n",
       "      <td>1.000000</td>\n",
       "      <td>1.000000</td>\n",
       "      <td>271.740000</td>\n",
       "      <td>97.600000</td>\n",
       "      <td>1.000000</td>\n",
       "    </tr>\n",
       "  </tbody>\n",
       "</table>\n",
       "</div>"
      ],
      "text/plain": [
       "               age  hypertension  heart_disease  avg_glucose_level  \\\n",
       "count  5110.000000   5110.000000    5110.000000        5110.000000   \n",
       "mean     43.226614      0.097456       0.054012         106.147677   \n",
       "std      22.612647      0.296607       0.226063          45.283560   \n",
       "min       0.080000      0.000000       0.000000          55.120000   \n",
       "25%      25.000000      0.000000       0.000000          77.245000   \n",
       "50%      45.000000      0.000000       0.000000          91.885000   \n",
       "75%      61.000000      0.000000       0.000000         114.090000   \n",
       "max      82.000000      1.000000       1.000000         271.740000   \n",
       "\n",
       "               bmi       stroke  \n",
       "count  4909.000000  5110.000000  \n",
       "mean     28.893237     0.048728  \n",
       "std       7.854067     0.215320  \n",
       "min      10.300000     0.000000  \n",
       "25%      23.500000     0.000000  \n",
       "50%      28.100000     0.000000  \n",
       "75%      33.100000     0.000000  \n",
       "max      97.600000     1.000000  "
      ]
     },
     "execution_count": 7,
     "metadata": {},
     "output_type": "execute_result"
    }
   ],
   "source": [
    "df.describe()"
   ]
  },
  {
   "cell_type": "code",
   "execution_count": 8,
   "id": "7bdc5748",
   "metadata": {},
   "outputs": [
    {
     "data": {
      "text/html": [
       "<div>\n",
       "<style scoped>\n",
       "    .dataframe tbody tr th:only-of-type {\n",
       "        vertical-align: middle;\n",
       "    }\n",
       "\n",
       "    .dataframe tbody tr th {\n",
       "        vertical-align: top;\n",
       "    }\n",
       "\n",
       "    .dataframe thead th {\n",
       "        text-align: right;\n",
       "    }\n",
       "</style>\n",
       "<table border=\"1\" class=\"dataframe\">\n",
       "  <thead>\n",
       "    <tr style=\"text-align: right;\">\n",
       "      <th></th>\n",
       "      <th>age</th>\n",
       "      <th>hypertension</th>\n",
       "      <th>heart_disease</th>\n",
       "      <th>avg_glucose_level</th>\n",
       "      <th>bmi</th>\n",
       "      <th>stroke</th>\n",
       "    </tr>\n",
       "  </thead>\n",
       "  <tbody>\n",
       "    <tr>\n",
       "      <th>age</th>\n",
       "      <td>1.000000</td>\n",
       "      <td>0.276398</td>\n",
       "      <td>0.263796</td>\n",
       "      <td>0.238171</td>\n",
       "      <td>0.333398</td>\n",
       "      <td>0.245257</td>\n",
       "    </tr>\n",
       "    <tr>\n",
       "      <th>hypertension</th>\n",
       "      <td>0.276398</td>\n",
       "      <td>1.000000</td>\n",
       "      <td>0.108306</td>\n",
       "      <td>0.174474</td>\n",
       "      <td>0.167811</td>\n",
       "      <td>0.127904</td>\n",
       "    </tr>\n",
       "    <tr>\n",
       "      <th>heart_disease</th>\n",
       "      <td>0.263796</td>\n",
       "      <td>0.108306</td>\n",
       "      <td>1.000000</td>\n",
       "      <td>0.161857</td>\n",
       "      <td>0.041357</td>\n",
       "      <td>0.134914</td>\n",
       "    </tr>\n",
       "    <tr>\n",
       "      <th>avg_glucose_level</th>\n",
       "      <td>0.238171</td>\n",
       "      <td>0.174474</td>\n",
       "      <td>0.161857</td>\n",
       "      <td>1.000000</td>\n",
       "      <td>0.175502</td>\n",
       "      <td>0.131945</td>\n",
       "    </tr>\n",
       "    <tr>\n",
       "      <th>bmi</th>\n",
       "      <td>0.333398</td>\n",
       "      <td>0.167811</td>\n",
       "      <td>0.041357</td>\n",
       "      <td>0.175502</td>\n",
       "      <td>1.000000</td>\n",
       "      <td>0.042374</td>\n",
       "    </tr>\n",
       "    <tr>\n",
       "      <th>stroke</th>\n",
       "      <td>0.245257</td>\n",
       "      <td>0.127904</td>\n",
       "      <td>0.134914</td>\n",
       "      <td>0.131945</td>\n",
       "      <td>0.042374</td>\n",
       "      <td>1.000000</td>\n",
       "    </tr>\n",
       "  </tbody>\n",
       "</table>\n",
       "</div>"
      ],
      "text/plain": [
       "                        age  hypertension  heart_disease  avg_glucose_level  \\\n",
       "age                1.000000      0.276398       0.263796           0.238171   \n",
       "hypertension       0.276398      1.000000       0.108306           0.174474   \n",
       "heart_disease      0.263796      0.108306       1.000000           0.161857   \n",
       "avg_glucose_level  0.238171      0.174474       0.161857           1.000000   \n",
       "bmi                0.333398      0.167811       0.041357           0.175502   \n",
       "stroke             0.245257      0.127904       0.134914           0.131945   \n",
       "\n",
       "                        bmi    stroke  \n",
       "age                0.333398  0.245257  \n",
       "hypertension       0.167811  0.127904  \n",
       "heart_disease      0.041357  0.134914  \n",
       "avg_glucose_level  0.175502  0.131945  \n",
       "bmi                1.000000  0.042374  \n",
       "stroke             0.042374  1.000000  "
      ]
     },
     "execution_count": 8,
     "metadata": {},
     "output_type": "execute_result"
    }
   ],
   "source": [
    "df.corr()"
   ]
  },
  {
   "cell_type": "markdown",
   "id": "8ebbabfa",
   "metadata": {},
   "source": [
    "**Exploratory Analysis**\n",
    "---\n",
    "Let's take a look at each features and the target."
   ]
  },
  {
   "cell_type": "markdown",
   "id": "9cbc8d49",
   "metadata": {},
   "source": [
    "**Age**"
   ]
  },
  {
   "cell_type": "code",
   "execution_count": 9,
   "id": "8e2b74d4",
   "metadata": {},
   "outputs": [
    {
     "data": {
      "text/plain": [
       "<AxesSubplot:xlabel='age', ylabel='Count'>"
      ]
     },
     "execution_count": 9,
     "metadata": {},
     "output_type": "execute_result"
    },
    {
     "data": {
      "image/png": "[encoded data removed]",
      "text/plain": [
       "<Figure size 432x288 with 1 Axes>"
      ]
     },
     "metadata": {
      "needs_background": "light"
     },
     "output_type": "display_data"
    }
   ],
   "source": [
    "sns.histplot(data=df,x='age')"
   ]
  },
  {
   "cell_type": "code",
   "execution_count": 10,
   "id": "cc7c21e7",
   "metadata": {},
   "outputs": [
    {
     "data": {
      "text/plain": [
       "<seaborn.axisgrid.FacetGrid at 0x1e8abb672b0>"
      ]
     },
     "execution_count": 10,
     "metadata": {},
     "output_type": "execute_result"
    },
    {
     "data": {
      "image/png": "[encoded data removed]",
      "text/plain": [
       "<Figure size 360x360 with 1 Axes>"
      ]
     },
     "metadata": {
      "needs_background": "light"
     },
     "output_type": "display_data"
    }
   ],
   "source": [
    "sns.catplot(data=df,x='stroke',y='age')"
   ]
  },
  {
   "cell_type": "markdown",
   "id": "3e4965dd",
   "metadata": {},
   "source": [
    "Let's look closer at the age of the people who had stroke. Below is a graph that shows how many patients have had a stroke for each age group."
   ]
  },
  {
   "cell_type": "code",
   "execution_count": 11,
   "id": "68a46d3c",
   "metadata": {},
   "outputs": [],
   "source": [
    "df_age=df.drop(df[df['stroke']==0].index)\n",
    "df_age=df_age[['age']]"
   ]
  },
  {
   "cell_type": "code",
   "execution_count": 12,
   "id": "bc6d655b",
   "metadata": {},
   "outputs": [
    {
     "data": {
      "text/plain": [
       "<AxesSubplot:>"
      ]
     },
     "execution_count": 12,
     "metadata": {},
     "output_type": "execute_result"
    },
    {
     "data": {
      "image/png": "[encoded data removed]",
      "text/plain": [
       "<Figure size 720x720 with 1 Axes>"
      ]
     },
     "metadata": {
      "needs_background": "light"
     },
     "output_type": "display_data"
    }
   ],
   "source": [
    "plt.rcParams[\"figure.figsize\"] = (10,10)\n",
    "df_age['age'].value_counts().plot(kind='barh')"
   ]
  },
  {
   "cell_type": "code",
   "execution_count": 13,
   "id": "a7e900f8",
   "metadata": {},
   "outputs": [],
   "source": [
    "#reset figure size to default\n",
    "plt.rcParams[\"figure.figsize\"] = plt.rcParamsDefault[\"figure.figsize\"]"
   ]
  },
  {
   "cell_type": "markdown",
   "id": "b5bdb29b",
   "metadata": {},
   "source": [
    "From this, we can see that those who've had a stroke tends to be older. Age could be a very important factor that will predict the occurence of stroke. Ages 78-81 have had the highest number of strokes."
   ]
  },
  {
   "cell_type": "markdown",
   "id": "406d6398",
   "metadata": {},
   "source": [
    "**Gender**"
   ]
  },
  {
   "cell_type": "code",
   "execution_count": 14,
   "id": "24b4fcd2",
   "metadata": {},
   "outputs": [
    {
     "name": "stdout",
     "output_type": "stream",
     "text": [
      "Female    2994\n",
      "Male      2115\n",
      "Other        1\n",
      "Name: gender, dtype: int64\n"
     ]
    }
   ],
   "source": [
    "print(df['gender'].value_counts())"
   ]
  },
  {
   "cell_type": "code",
   "execution_count": 15,
   "id": "d90f5d1c",
   "metadata": {},
   "outputs": [
    {
     "data": {
      "text/plain": [
       "<matplotlib.legend.Legend at 0x1e8b2110c40>"
      ]
     },
     "execution_count": 15,
     "metadata": {},
     "output_type": "execute_result"
    },
    {
     "data": {
      "image/png": "[encoded data removed]",
      "text/plain": [
       "<Figure size 460.8x345.6 with 1 Axes>"
      ]
     },
     "metadata": {
      "needs_background": "light"
     },
     "output_type": "display_data"
    }
   ],
   "source": [
    "gen=sns.countplot(data=df,y='gender',hue='stroke')\n",
    "for container in gen.containers:\n",
    "  gen.bar_label(container)\n",
    "plt.legend(loc='lower right',title='Stroke')"
   ]
  },
  {
   "cell_type": "markdown",
   "id": "f40f1ae3",
   "metadata": {},
   "source": [
    "Notice that the female population (about 59%) is slightly higher than the male population which is approximately 41% of the total sample. \n",
    "Approximately 5.11% of the male patients had a stroke; 4.71% female patients and 0 other patients had a stroke."
   ]
  },
  {
   "cell_type": "markdown",
   "id": "9a38cce6",
   "metadata": {},
   "source": [
    "**Hypertension**"
   ]
  },
  {
   "cell_type": "code",
   "execution_count": 16,
   "id": "a82a3f5c",
   "metadata": {},
   "outputs": [
    {
     "data": {
      "text/plain": [
       "<matplotlib.legend.Legend at 0x1e8b0d645b0>"
      ]
     },
     "execution_count": 16,
     "metadata": {},
     "output_type": "execute_result"
    },
    {
     "data": {
      "image/png": "[encoded data removed]",
      "text/plain": [
       "<Figure size 460.8x345.6 with 1 Axes>"
      ]
     },
     "metadata": {
      "needs_background": "light"
     },
     "output_type": "display_data"
    }
   ],
   "source": [
    "hp=sns.countplot(data=df,y='hypertension',hue='stroke')\n",
    "for container in hp.containers:\n",
    "  hp.bar_label(container)\n",
    "plt.legend(loc='lower right',title='Stroke')"
   ]
  },
  {
   "cell_type": "markdown",
   "id": "4a189fd6",
   "metadata": {},
   "source": [
    "Those who has hypertension are more prone to experiencing a stroke. From the data, 13.25% of patients who have hypertension had a stroke while only 3.97% of those who does not have hypertension had a stroke."
   ]
  },
  {
   "cell_type": "markdown",
   "id": "38362615",
   "metadata": {},
   "source": [
    "**Heart disease**"
   ]
  },
  {
   "cell_type": "code",
   "execution_count": 17,
   "id": "d833c3af",
   "metadata": {},
   "outputs": [
    {
     "data": {
      "text/plain": [
       "<matplotlib.legend.Legend at 0x1e8b1f80d30>"
      ]
     },
     "execution_count": 17,
     "metadata": {},
     "output_type": "execute_result"
    },
    {
     "data": {
      "image/png": "[encoded data removed]",
      "text/plain": [
       "<Figure size 460.8x345.6 with 1 Axes>"
      ]
     },
     "metadata": {
      "needs_background": "light"
     },
     "output_type": "display_data"
    }
   ],
   "source": [
    "hd=sns.countplot(data=df,y='heart_disease',hue='stroke')\n",
    "for container in hd.containers:\n",
    "  hd.bar_label(container)\n",
    "plt.legend(loc='lower right',title='Stroke')"
   ]
  },
  {
   "cell_type": "markdown",
   "id": "980629b3",
   "metadata": {},
   "source": [
    "17.03% of those who have any heart diseases had a stroke and 4.18% of those who doesn't have any heart diseases had a stroke. From this, we are more likely to assume that those who have any heart diseases have a higher chance of getting a stroke."
   ]
  },
  {
   "cell_type": "markdown",
   "id": "01418161",
   "metadata": {},
   "source": [
    "**Ever married**"
   ]
  },
  {
   "cell_type": "code",
   "execution_count": 18,
   "id": "72d42400",
   "metadata": {},
   "outputs": [
    {
     "data": {
      "text/plain": [
       "<matplotlib.legend.Legend at 0x1e8b1feb100>"
      ]
     },
     "execution_count": 18,
     "metadata": {},
     "output_type": "execute_result"
    },
    {
     "data": {
      "image/png": "[encoded data removed]",
      "text/plain": [
       "<Figure size 460.8x345.6 with 1 Axes>"
      ]
     },
     "metadata": {
      "needs_background": "light"
     },
     "output_type": "display_data"
    }
   ],
   "source": [
    "em=sns.countplot(data=df,y='ever_married',hue='stroke')\n",
    "for container in em.containers:\n",
    "  em.bar_label(container)\n",
    "plt.legend(loc='lower right',title='Stroke')"
   ]
  },
  {
   "cell_type": "markdown",
   "id": "86f19aea",
   "metadata": {},
   "source": [
    "Percentages of those patients who had a stroke:\n",
    "\n",
    "Yes - 6.56%\n",
    "\n",
    "No - 1.65%\n",
    "\n",
    "Those who are married seems to have a higher percentage of having a stroke."
   ]
  },
  {
   "cell_type": "markdown",
   "id": "511dd1a6",
   "metadata": {},
   "source": [
    "**Work type**"
   ]
  },
  {
   "cell_type": "code",
   "execution_count": 19,
   "id": "45535281",
   "metadata": {},
   "outputs": [
    {
     "data": {
      "text/plain": [
       "<matplotlib.legend.Legend at 0x1e8b1fa4d00>"
      ]
     },
     "execution_count": 19,
     "metadata": {},
     "output_type": "execute_result"
    },
    {
     "data": {
      "image/png": "[encoded data removed]",
      "text/plain": [
       "<Figure size 460.8x345.6 with 1 Axes>"
      ]
     },
     "metadata": {
      "needs_background": "light"
     },
     "output_type": "display_data"
    }
   ],
   "source": [
    "wt=sns.countplot(data=df,y='work_type',hue='stroke')\n",
    "for container in wt.containers:\n",
    "  wt.bar_label(container)\n",
    "plt.legend(loc='lower right',title='Stroke')"
   ]
  },
  {
   "cell_type": "markdown",
   "id": "67e44a05",
   "metadata": {},
   "source": [
    "Percentages of those patients who had a stroke:\n",
    "\n",
    "Private - 5.09%\n",
    "\n",
    "Self-employed - 7.94%\n",
    "\n",
    "Govt job - 5.02%\n",
    "\n",
    "Children - 0.29%\n",
    "\n",
    "Never worked - 0%\n",
    "\n",
    "Those who are self-employed seems to have the highest percentage."
   ]
  },
  {
   "cell_type": "markdown",
   "id": "5117d158",
   "metadata": {},
   "source": [
    "**Residence Type**"
   ]
  },
  {
   "cell_type": "code",
   "execution_count": 20,
   "id": "44b14df1",
   "metadata": {},
   "outputs": [
    {
     "data": {
      "text/plain": [
       "<matplotlib.legend.Legend at 0x1e8b204e1f0>"
      ]
     },
     "execution_count": 20,
     "metadata": {},
     "output_type": "execute_result"
    },
    {
     "data": {
      "image/png": "[encoded data removed]",
      "text/plain": [
       "<Figure size 460.8x345.6 with 1 Axes>"
      ]
     },
     "metadata": {
      "needs_background": "light"
     },
     "output_type": "display_data"
    }
   ],
   "source": [
    "rt=sns.countplot(data=df,y='Residence_type',hue='stroke')\n",
    "for container in rt.containers:\n",
    "  rt.bar_label(container)\n",
    "plt.legend(loc='lower right',title='Stroke')"
   ]
  },
  {
   "cell_type": "markdown",
   "id": "bab92bbd",
   "metadata": {},
   "source": [
    "Percentages of those patients who had a stroke:\n",
    "\n",
    "Urban - 5.20%\n",
    "\n",
    "Rural - 4.53%\n",
    "\n",
    "The percentages between those who live in rural and urban areas and have had a stroke are almost the same, so the residence type might not be a very important factor that determines stroke prediction."
   ]
  },
  {
   "cell_type": "markdown",
   "id": "fe0a0da9",
   "metadata": {},
   "source": [
    "**Average glucose level**"
   ]
  },
  {
   "cell_type": "code",
   "execution_count": 21,
   "id": "038bc002",
   "metadata": {},
   "outputs": [
    {
     "data": {
      "text/plain": [
       "<AxesSubplot:xlabel='avg_glucose_level', ylabel='Count'>"
      ]
     },
     "execution_count": 21,
     "metadata": {},
     "output_type": "execute_result"
    },
    {
     "data": {
      "image/png": "[encoded data removed]",
      "text/plain": [
       "<Figure size 460.8x345.6 with 1 Axes>"
      ]
     },
     "metadata": {
      "needs_background": "light"
     },
     "output_type": "display_data"
    }
   ],
   "source": [
    "sns.histplot(data=df,x='avg_glucose_level')"
   ]
  },
  {
   "cell_type": "markdown",
   "id": "76d99d6c",
   "metadata": {},
   "source": [
    "The distribution of average glucose level is skewed to the right, indicating that the mean is lower than the median.\n",
    "\n",
    "A blood sugar level less than 140 mg is considered normal. A reading more than 140 but less than 199 is considered prediabetic and 200 mg above is considered diabetic.\n",
    "\n",
    "From the calculations below, we can see that those who are prediabetic and diabetic are more likely to experience a stroke."
   ]
  },
  {
   "cell_type": "code",
   "execution_count": 22,
   "id": "ebf7e7a5",
   "metadata": {},
   "outputs": [
    {
     "name": "stdout",
     "output_type": "stream",
     "text": [
      "Patients under 140 mg who had a stroke:  3.64 %\n",
      "Patients under 140 mg who had a stroke:  11.33 %\n"
     ]
    }
   ],
   "source": [
    "u140=len(df.loc[(df.avg_glucose_level<140)&(df.stroke==1),['avg_glucose_level','stroke']])/len(df.loc[(df.avg_glucose_level<140),['avg_glucose_level','stroke']])*100\n",
    "print(\"Patients under 140 mg who had a stroke: \",round(u140,2),\"%\")\n",
    "o140=len(df.loc[(df.avg_glucose_level>140)&(df.stroke==1),['avg_glucose_level','stroke']])/len(df.loc[(df.avg_glucose_level>140),['avg_glucose_level','stroke']])*100\n",
    "print(\"Patients under 140 mg who had a stroke: \",round(o140,2),\"%\")"
   ]
  },
  {
   "cell_type": "markdown",
   "id": "54809212",
   "metadata": {},
   "source": [
    "**BMI**"
   ]
  },
  {
   "cell_type": "code",
   "execution_count": 23,
   "id": "a60ba36b",
   "metadata": {
    "scrolled": true
   },
   "outputs": [
    {
     "data": {
      "text/plain": [
       "<AxesSubplot:xlabel='bmi', ylabel='Count'>"
      ]
     },
     "execution_count": 23,
     "metadata": {},
     "output_type": "execute_result"
    },
    {
     "data": {
      "image/png": "[encoded data removed]",
      "text/plain": [
       "<Figure size 460.8x345.6 with 1 Axes>"
      ]
     },
     "metadata": {
      "needs_background": "light"
     },
     "output_type": "display_data"
    }
   ],
   "source": [
    "sns.histplot(data=df,x='bmi')"
   ]
  },
  {
   "cell_type": "markdown",
   "id": "99ab2cbd",
   "metadata": {},
   "source": [
    "Looking at this histrogram, the distribution of bmi seems to be normal. However, we see that there are big outliers on the right hand side."
   ]
  },
  {
   "cell_type": "code",
   "execution_count": 24,
   "id": "e861058e",
   "metadata": {},
   "outputs": [
    {
     "name": "stdout",
     "output_type": "stream",
     "text": [
      "Underweight patients who had a stroke:  0.02 %\n",
      "Healthy patients who had a stroke:  2.82 %\n",
      "Overweight patients who had a stroke:  5.32 %\n",
      "Obese patients who had a stroke:  5.1 %\n"
     ]
    }
   ],
   "source": [
    "bbmi=len(df.loc[(df.bmi<18.5)&(df.stroke==1),['bmi','stroke']])/len(df.loc[(df.avg_glucose_level<140),['avg_glucose_level','stroke']])*100\n",
    "print(\"Underweight patients who had a stroke: \",round(bbmi,2),\"%\")\n",
    "hbmi=len(df.loc[(df.bmi>=18.5)&(df.bmi<=24.9)&(df.stroke==1),['bmi','stroke']])/len(df.loc[(df.bmi>=18.5)&(df.bmi<=24.9),['bmi','stroke']])*100\n",
    "print(\"Healthy patients who had a stroke: \",round(hbmi,2),\"%\")\n",
    "obmi=len(df.loc[(df.bmi>=25.0)&(df.bmi<=29.9)&(df.stroke==1),['bmi','stroke']])/len(df.loc[(df.bmi>=25.0)&(df.bmi<=29.9),['bmi','stroke']])*100\n",
    "print(\"Overweight patients who had a stroke: \",round(obmi,2),\"%\")\n",
    "obese=len(df.loc[(df.bmi>=30.0)&(df.stroke==1),['bmi','stroke']])/len(df.loc[(df.bmi>=30.0),['bmi','stroke']])*100\n",
    "print(\"Obese patients who had a stroke: \",round(obese,2),\"%\")"
   ]
  },
  {
   "cell_type": "markdown",
   "id": "a0837763",
   "metadata": {},
   "source": [
    "Overweight and obese patients who had stroke have higher percentages than underweight and healthy patients."
   ]
  },
  {
   "cell_type": "markdown",
   "id": "b10e5732",
   "metadata": {},
   "source": [
    "**Smoking Status**"
   ]
  },
  {
   "cell_type": "code",
   "execution_count": 25,
   "id": "b8eef9d6",
   "metadata": {},
   "outputs": [
    {
     "data": {
      "text/plain": [
       "<matplotlib.legend.Legend at 0x1e8b1fa4c40>"
      ]
     },
     "execution_count": 25,
     "metadata": {},
     "output_type": "execute_result"
    },
    {
     "data": {
      "image/png": "[encoded data removed]",
      "text/plain": [
       "<Figure size 460.8x345.6 with 1 Axes>"
      ]
     },
     "metadata": {
      "needs_background": "light"
     },
     "output_type": "display_data"
    }
   ],
   "source": [
    "ss=sns.countplot(data=df,y='smoking_status',hue='stroke')\n",
    "for container in ss.containers:\n",
    "  ss.bar_label(container)\n",
    "plt.legend(loc='lower right',title='Stroke')"
   ]
  },
  {
   "cell_type": "markdown",
   "id": "53e5bc2a",
   "metadata": {},
   "source": [
    "Percentages of those patients who had stroke:\n",
    "\n",
    "Formerly smoked - 7.91%\n",
    "\n",
    "Never smoked - 4.76%\n",
    "\n",
    "Smokes - 5.32%\n",
    "\n",
    "Unknown - 3.04%\n",
    "\n",
    "Those who formerly smoked and currently smokes are the top 2 among the patients who had stroke."
   ]
  },
  {
   "cell_type": "code",
   "execution_count": 26,
   "id": "905b2cc7",
   "metadata": {},
   "outputs": [
    {
     "name": "stdout",
     "output_type": "stream",
     "text": [
      "0    4861\n",
      "1     249\n",
      "Name: stroke, dtype: int64\n"
     ]
    }
   ],
   "source": [
    "print(df['stroke'].value_counts())"
   ]
  },
  {
   "cell_type": "code",
   "execution_count": 27,
   "id": "c66b0a8c",
   "metadata": {},
   "outputs": [
    {
     "name": "stdout",
     "output_type": "stream",
     "text": [
      "0:  95.13 %\n",
      "1:  4.87 %\n"
     ]
    }
   ],
   "source": [
    "target=df[['stroke']]\n",
    "print(\"0: \",round((target.value_counts()[0]/df.shape[0])*100,2), \"%\")\n",
    "print(\"1: \",round((target.value_counts()[1]/df.shape[0])*100,2), \"%\")"
   ]
  },
  {
   "cell_type": "markdown",
   "id": "41677a89",
   "metadata": {},
   "source": [
    "Looking at our target values, we see that the data is imbalanced as ≈95% of the patients did not experience having a stroke. We will use different techniques on how to deal with imbalanced dataset later."
   ]
  },
  {
   "cell_type": "markdown",
   "id": "11167d0e",
   "metadata": {},
   "source": [
    "**Missing data**\n",
    "---"
   ]
  },
  {
   "cell_type": "code",
   "execution_count": 28,
   "id": "c3e1d751",
   "metadata": {},
   "outputs": [
    {
     "data": {
      "text/plain": [
       "<AxesSubplot:xlabel='bmi', ylabel='Count'>"
      ]
     },
     "execution_count": 28,
     "metadata": {},
     "output_type": "execute_result"
    },
    {
     "data": {
      "image/png": "[encoded data removed]",
      "text/plain": [
       "<Figure size 460.8x345.6 with 1 Axes>"
      ]
     },
     "metadata": {
      "needs_background": "light"
     },
     "output_type": "display_data"
    }
   ],
   "source": [
    "#Filling missing values in `bmi` column using linear interpolation\n",
    "df['bmi'].interpolate(method='linear',direction='forward',inplace=True)\n",
    "sns.histplot(data=df,x='bmi')"
   ]
  },
  {
   "cell_type": "code",
   "execution_count": 29,
   "id": "2c6b335f",
   "metadata": {},
   "outputs": [
    {
     "name": "stdout",
     "output_type": "stream",
     "text": [
      "<class 'pandas.core.frame.DataFrame'>\n",
      "RangeIndex: 5110 entries, 0 to 5109\n",
      "Data columns (total 11 columns):\n",
      " #   Column             Non-Null Count  Dtype  \n",
      "---  ------             --------------  -----  \n",
      " 0   gender             5110 non-null   object \n",
      " 1   age                5110 non-null   float64\n",
      " 2   hypertension       5110 non-null   int64  \n",
      " 3   heart_disease      5110 non-null   int64  \n",
      " 4   ever_married       5110 non-null   object \n",
      " 5   work_type          5110 non-null   object \n",
      " 6   Residence_type     5110 non-null   object \n",
      " 7   avg_glucose_level  5110 non-null   float64\n",
      " 8   bmi                5110 non-null   float64\n",
      " 9   smoking_status     5110 non-null   object \n",
      " 10  stroke             5110 non-null   int64  \n",
      "dtypes: float64(3), int64(3), object(5)\n",
      "memory usage: 439.3+ KB\n"
     ]
    }
   ],
   "source": [
    "df.info()"
   ]
  },
  {
   "cell_type": "code",
   "execution_count": 30,
   "id": "df82a4ff",
   "metadata": {},
   "outputs": [],
   "source": [
    "#Separating features and target\n",
    "features=df.drop(columns=['stroke'])\n",
    "target=df[['stroke']]"
   ]
  },
  {
   "cell_type": "markdown",
   "id": "4ee2803a",
   "metadata": {},
   "source": [
    "**Numerical and Categorical Values**"
   ]
  },
  {
   "cell_type": "code",
   "execution_count": 31,
   "id": "05b90e88",
   "metadata": {},
   "outputs": [],
   "source": [
    "categorical = ['gender', 'hypertension', 'heart_disease', 'ever_married','work_type', 'Residence_type', 'smoking_status']\n",
    "numerical = ['age','avg_glucose_level', 'bmi']\n",
    "targetv=['stroke']"
   ]
  },
  {
   "cell_type": "markdown",
   "id": "d2f0cb47",
   "metadata": {},
   "source": [
    "To avoid data leakage and bias, we'll encode the categorical variables after splitting the data into train and test sets.\n",
    "\n",
    "Since we will be using tree-based methods such as Decision Tree, Random Forest and Gradient Boosting, the numerical features are not required to be scaled."
   ]
  },
  {
   "cell_type": "markdown",
   "id": "3642a40c",
   "metadata": {},
   "source": [
    "**Q1.**\n",
    "---\n",
    " Train a `Decision Tree`, `Random Forest` and `Gradient Boosting` algorithm to set a\n",
    "baseline performance. Use `ROC AUC `and `Average Precision` metrics for your evaluation.\n",
    "Also, show the `precision` and `recall` for both classes. Don't balance the dataset."
   ]
  },
  {
   "cell_type": "code",
   "execution_count": 32,
   "id": "aa60cba6",
   "metadata": {},
   "outputs": [],
   "source": [
    "X_train, X_test, y_train, y_test = train_test_split(features, target, random_state=0)"
   ]
  },
  {
   "cell_type": "code",
   "execution_count": 33,
   "id": "34db3482",
   "metadata": {},
   "outputs": [],
   "source": [
    "ohe=OneHotEncoder()\n",
    "models = [DecisionTreeClassifier(),RandomForestClassifier(),GradientBoostingClassifier()]\n",
    "names = ['Decision Tree','Random Forest','Gradient Boosting']"
   ]
  },
  {
   "cell_type": "code",
   "execution_count": 34,
   "id": "8c7fb382",
   "metadata": {},
   "outputs": [
    {
     "name": "stdout",
     "output_type": "stream",
     "text": [
      "------------------------------------------------------\n",
      "Decision Tree ROC AUC (Train):  1.0\n",
      "Decision Tree ROC AUC (Test):  0.509\n",
      "Decision Tree Avg Precision (Train):  1.0\n",
      "Decision Tree Avg Precision (Test):  0.052\n",
      "\n",
      "Train\n",
      "               precision    recall  f1-score   support\n",
      "\n",
      "           0       1.00      1.00      1.00      3648\n",
      "           1       1.00      1.00      1.00       184\n",
      "\n",
      "    accuracy                           1.00      3832\n",
      "   macro avg       1.00      1.00      1.00      3832\n",
      "weighted avg       1.00      1.00      1.00      3832\n",
      "\n",
      "\n",
      "Test\n",
      "               precision    recall  f1-score   support\n",
      "\n",
      "           0       0.95      0.96      0.95      1213\n",
      "           1       0.07      0.06      0.07        65\n",
      "\n",
      "    accuracy                           0.91      1278\n",
      "   macro avg       0.51      0.51      0.51      1278\n",
      "weighted avg       0.91      0.91      0.91      1278\n",
      "\n",
      "------------------------------------------------------\n",
      "Random Forest ROC AUC (Train):  1.0\n",
      "Random Forest ROC AUC (Test):  0.752\n",
      "Random Forest Avg Precision (Train):  1.0\n",
      "Random Forest Avg Precision (Test):  0.125\n",
      "\n",
      "Train\n",
      "               precision    recall  f1-score   support\n",
      "\n",
      "           0       1.00      1.00      1.00      3648\n",
      "           1       1.00      1.00      1.00       184\n",
      "\n",
      "    accuracy                           1.00      3832\n",
      "   macro avg       1.00      1.00      1.00      3832\n",
      "weighted avg       1.00      1.00      1.00      3832\n",
      "\n",
      "\n",
      "Test\n",
      "               precision    recall  f1-score   support\n",
      "\n",
      "           0       0.95      1.00      0.97      1213\n",
      "           1       0.00      0.00      0.00        65\n",
      "\n",
      "    accuracy                           0.95      1278\n",
      "   macro avg       0.47      0.50      0.49      1278\n",
      "weighted avg       0.90      0.95      0.92      1278\n",
      "\n",
      "------------------------------------------------------\n",
      "Gradient Boosting ROC AUC (Train):  0.934\n",
      "Gradient Boosting ROC AUC (Test):  0.802\n",
      "Gradient Boosting Avg Precision (Train):  0.631\n",
      "Gradient Boosting Avg Precision (Test):  0.161\n",
      "\n",
      "Train\n",
      "               precision    recall  f1-score   support\n",
      "\n",
      "           0       0.96      1.00      0.98      3648\n",
      "           1       0.96      0.14      0.24       184\n",
      "\n",
      "    accuracy                           0.96      3832\n",
      "   macro avg       0.96      0.57      0.61      3832\n",
      "weighted avg       0.96      0.96      0.94      3832\n",
      "\n",
      "\n",
      "Test\n",
      "               precision    recall  f1-score   support\n",
      "\n",
      "           0       0.95      1.00      0.97      1213\n",
      "           1       0.50      0.02      0.03        65\n",
      "\n",
      "    accuracy                           0.95      1278\n",
      "   macro avg       0.72      0.51      0.50      1278\n",
      "weighted avg       0.93      0.95      0.93      1278\n",
      "\n"
     ]
    }
   ],
   "source": [
    "def initModel(models):\n",
    "  for i in range(len(models)):\n",
    "    transformer=ColumnTransformer(transformers=[('ohe',OneHotEncoder(),categorical)],remainder='passthrough')\n",
    "    pipeline=Pipeline((('t',transformer),('m',models[i])))\n",
    "    pipeline.fit(X_train,y_train)\n",
    "    pred_train=pipeline.predict(X_train)\n",
    "    pred_test=pipeline.predict(X_test)\n",
    "    prob_train=pipeline.predict_proba(X_train)[:,1]\n",
    "    prob_test=pipeline.predict_proba(X_test)[:,1]\n",
    "    roc_train=roc_auc_score(y_train,prob_train)\n",
    "    roc_test=roc_auc_score(y_test,prob_test)\n",
    "    ap_train=average_precision_score(y_train,prob_train)\n",
    "    ap_test=average_precision_score(y_test,prob_test)\n",
    "    print(\"------------------------------------------------------\")\n",
    "    print(names[i],\"ROC AUC (Train): \", round(roc_train,3))\n",
    "    print(names[i],\"ROC AUC (Test): \", round(roc_test,3))\n",
    "    print(names[i],\"Avg Precision (Train): \",round(ap_train,3))\n",
    "    print(names[i],\"Avg Precision (Test): \",round(ap_test,3))\n",
    "    print('\\nTrain\\n',classification_report(y_train,pred_train))\n",
    "    print('\\nTest\\n',classification_report(y_test,pred_test))\n",
    "initModel(models)"
   ]
  },
  {
   "cell_type": "markdown",
   "id": "db8ec9a7",
   "metadata": {},
   "source": [
    "It looks like the models are overfitting especially Random Forest and Decision Tree as they did really well on the training data and bad on the testing set. One reason could be because there is no pruning option used in the trees model.\n",
    "\n",
    "Let's try `cross_validate` to further assess the models performance."
   ]
  },
  {
   "cell_type": "code",
   "execution_count": 35,
   "id": "a2a5d88a",
   "metadata": {},
   "outputs": [
    {
     "name": "stdout",
     "output_type": "stream",
     "text": [
      "\n",
      " Decision Tree \n",
      " train_roc_auc              1.0\n",
      "train_average_precision    1.0\n",
      "dtype: float64\n",
      "\n",
      " Decision Tree \n",
      " test_roc_auc              0.566280\n",
      "test_average_precision    0.075734\n",
      "dtype: float64\n",
      "\n",
      " Random Forest \n",
      " train_roc_auc              1.0\n",
      "train_average_precision    1.0\n",
      "dtype: float64\n",
      "\n",
      " Random Forest \n",
      " test_roc_auc              0.786007\n",
      "test_average_precision    0.184679\n",
      "dtype: float64\n",
      "\n",
      " Gradient Boosting \n",
      " train_roc_auc              0.937291\n",
      "train_average_precision    0.632643\n",
      "dtype: float64\n",
      "\n",
      " Gradient Boosting \n",
      " test_roc_auc              0.835517\n",
      "test_average_precision    0.226599\n",
      "dtype: float64\n"
     ]
    }
   ],
   "source": [
    "def initCV(models):\n",
    "  for i in range(len(models)):\n",
    "    transformer=ColumnTransformer(transformers=[('ohe',OneHotEncoder(),categorical)],remainder='passthrough')\n",
    "    pipeline=Pipeline((('t',transformer),('m',models[i])))\n",
    "    score=cross_validate(pipeline,X_train,y_train,cv=20,scoring=('roc_auc', 'average_precision'),return_train_score=True)\n",
    "    print(\"\\n\",names[i],\"\\n\",pd.DataFrame(score)[['train_roc_auc', 'train_average_precision']].mean())\n",
    "    print(\"\\n\",names[i],\"\\n\",pd.DataFrame(score)[['test_roc_auc', 'test_average_precision']].mean())\n",
    "initCV(models)"
   ]
  },
  {
   "cell_type": "markdown",
   "id": "f5a039ef",
   "metadata": {},
   "source": [
    "From this, we can assume that the algorithm that will do best is the `Gradient Boosting` algorithm since it has the highest score. Next is `Random Forest` algorithm."
   ]
  },
  {
   "cell_type": "markdown",
   "id": "3d7e50ea",
   "metadata": {},
   "source": [
    "Imbalanced data set creates a bias towards one class. We'll balance the dataset using four methods: `Random Under Sampling`, `Random Over Sampling`, `Edited Nearest Neighbors` and `SMOTE`"
   ]
  },
  {
   "cell_type": "markdown",
   "id": "b73cf3ab",
   "metadata": {},
   "source": [
    "**Q2.**\n",
    "---\n",
    " Balance the dataset using any 4 methods we have discussed in the class and again train a `Decision Tree`, `Random Forest` and `Gradient Boosting` algorithm to compare the performance with models from Q1."
   ]
  },
  {
   "cell_type": "code",
   "execution_count": 38,
   "id": "8695cb0d",
   "metadata": {},
   "outputs": [
    {
     "name": "stdout",
     "output_type": "stream",
     "text": [
      "SMOTE\n",
      "-------------------------------------------------------\n",
      "Decision Tree ROC AUC:  0.575\n",
      "Decision Tree Avg Precision:  0.076\n",
      "              precision    recall  f1-score   support\n",
      "\n",
      "           0       0.96      0.95      0.95      1213\n",
      "           1       0.18      0.20      0.19        65\n",
      "\n",
      "    accuracy                           0.91      1278\n",
      "   macro avg       0.57      0.58      0.57      1278\n",
      "weighted avg       0.92      0.91      0.91      1278\n",
      "\n",
      "-------------------------------------------------------\n",
      "Random Forest ROC AUC:  0.699\n",
      "Random Forest Avg Precision:  0.103\n",
      "              precision    recall  f1-score   support\n",
      "\n",
      "           0       0.95      0.99      0.97      1213\n",
      "           1       0.12      0.02      0.03        65\n",
      "\n",
      "    accuracy                           0.94      1278\n",
      "   macro avg       0.54      0.50      0.50      1278\n",
      "weighted avg       0.91      0.94      0.92      1278\n",
      "\n",
      "-------------------------------------------------------\n",
      "Gradient Boosting ROC AUC:  0.776\n",
      "Gradient Boosting Avg Precision:  0.142\n",
      "              precision    recall  f1-score   support\n",
      "\n",
      "           0       0.95      0.99      0.97      1213\n",
      "           1       0.23      0.05      0.08        65\n",
      "\n",
      "    accuracy                           0.94      1278\n",
      "   macro avg       0.59      0.52      0.52      1278\n",
      "weighted avg       0.91      0.94      0.93      1278\n",
      "\n"
     ]
    }
   ],
   "source": [
    "def q2SMOTE(models):\n",
    "  print(\"SMOTE\")\n",
    "  for i in range(len(models)):\n",
    "    transformer=ColumnTransformer(transformers=[('ohe',OneHotEncoder(),categorical)],remainder='passthrough')\n",
    "    pipeline=imb_pipeline(steps=[('ohe',transformer),('i',SMOTE()),('m',models[i])])\n",
    "    pipeline.fit(X_train,y_train)\n",
    "    y_pred = pipeline.predict(X_test)\n",
    "    y_prob = pipeline.predict_proba(X_test)[:,1]\n",
    "    roc=roc_auc_score(y_test,y_prob)\n",
    "    ap=average_precision_score(y_test,y_prob)\n",
    "    print(\"-------------------------------------------------------\")\n",
    "    print(names[i], \"ROC AUC: \",round(roc,3))\n",
    "    print(names[i], \"Avg Precision: \",round(ap,3))\n",
    "    print(classification_report(y_test, y_pred))\n",
    "\n",
    "q2SMOTE(models)"
   ]
  },
  {
   "cell_type": "code",
   "execution_count": 39,
   "id": "dc01fd5e",
   "metadata": {},
   "outputs": [
    {
     "name": "stdout",
     "output_type": "stream",
     "text": [
      "Random Over Sampling\n",
      "-------------------------------------------------------\n",
      "Decision Tree ROC AUC:  0.561\n",
      "Decision Tree Avg Precision:  0.074\n",
      "              precision    recall  f1-score   support\n",
      "\n",
      "           0       0.96      0.97      0.96      1213\n",
      "           1       0.20      0.15      0.18        65\n",
      "\n",
      "    accuracy                           0.93      1278\n",
      "   macro avg       0.58      0.56      0.57      1278\n",
      "weighted avg       0.92      0.93      0.92      1278\n",
      "\n",
      "-------------------------------------------------------\n",
      "Random Forest ROC AUC:  0.745\n",
      "Random Forest Avg Precision:  0.115\n",
      "              precision    recall  f1-score   support\n",
      "\n",
      "           0       0.95      0.99      0.97      1213\n",
      "           1       0.19      0.05      0.07        65\n",
      "\n",
      "    accuracy                           0.94      1278\n",
      "   macro avg       0.57      0.52      0.52      1278\n",
      "weighted avg       0.91      0.94      0.92      1278\n",
      "\n",
      "-------------------------------------------------------\n",
      "Gradient Boosting ROC AUC:  0.794\n",
      "Gradient Boosting Avg Precision:  0.152\n",
      "              precision    recall  f1-score   support\n",
      "\n",
      "           0       0.98      0.82      0.89      1213\n",
      "           1       0.16      0.63      0.25        65\n",
      "\n",
      "    accuracy                           0.81      1278\n",
      "   macro avg       0.57      0.72      0.57      1278\n",
      "weighted avg       0.93      0.81      0.86      1278\n",
      "\n"
     ]
    }
   ],
   "source": [
    "def q2ROS(models):\n",
    "  print(\"Random Over Sampling\")\n",
    "  for i in range(len(models)):\n",
    "    transformer=ColumnTransformer(transformers=[('ohe',OneHotEncoder(),categorical)],remainder='passthrough')\n",
    "    pipeline=imb_pipeline(steps=[('ohe',transformer),('i',RandomOverSampler()),('m',models[i])])\n",
    "    pipeline.fit(X_train,y_train)\n",
    "    y_pred = pipeline.predict(X_test)\n",
    "    y_prob = pipeline.predict_proba(X_test)[:,1]\n",
    "    roc=roc_auc_score(y_test,y_prob)\n",
    "    ap=average_precision_score(y_test,y_prob)\n",
    "    print(\"-------------------------------------------------------\")\n",
    "    print(names[i], \"ROC AUC: \",round(roc,3))\n",
    "    print(names[i], \"Avg Precision: \",round(ap,3))\n",
    "    print(classification_report(y_test, y_pred))\n",
    "q2ROS(models)"
   ]
  },
  {
   "cell_type": "code",
   "execution_count": 40,
   "id": "30df1532",
   "metadata": {},
   "outputs": [
    {
     "name": "stdout",
     "output_type": "stream",
     "text": [
      "Random Under Sampling\n",
      "-------------------------------------------------------\n",
      "Decision Tree ROC AUC:  0.655\n",
      "Decision Tree Avg Precision:  0.081\n",
      "              precision    recall  f1-score   support\n",
      "\n",
      "           0       0.97      0.73      0.83      1213\n",
      "           1       0.10      0.58      0.17        65\n",
      "\n",
      "    accuracy                           0.72      1278\n",
      "   macro avg       0.54      0.66      0.50      1278\n",
      "weighted avg       0.93      0.72      0.80      1278\n",
      "\n",
      "-------------------------------------------------------\n",
      "Random Forest ROC AUC:  0.781\n",
      "Random Forest Avg Precision:  0.145\n",
      "              precision    recall  f1-score   support\n",
      "\n",
      "           0       0.98      0.70      0.82      1213\n",
      "           1       0.12      0.74      0.20        65\n",
      "\n",
      "    accuracy                           0.71      1278\n",
      "   macro avg       0.55      0.72      0.51      1278\n",
      "weighted avg       0.94      0.71      0.79      1278\n",
      "\n",
      "-------------------------------------------------------\n",
      "Gradient Boosting ROC AUC:  0.791\n",
      "Gradient Boosting Avg Precision:  0.14\n",
      "              precision    recall  f1-score   support\n",
      "\n",
      "           0       0.98      0.74      0.84      1213\n",
      "           1       0.14      0.77      0.23        65\n",
      "\n",
      "    accuracy                           0.74      1278\n",
      "   macro avg       0.56      0.75      0.54      1278\n",
      "weighted avg       0.94      0.74      0.81      1278\n",
      "\n"
     ]
    }
   ],
   "source": [
    "def q2RUS(models):\n",
    "  print(\"Random Under Sampling\")\n",
    "  fi=list()\n",
    "  for i in range(len(models)):\n",
    "    transformer=ColumnTransformer(transformers=[('ohe',OneHotEncoder(),categorical)],remainder='passthrough')\n",
    "    pipeline=imb_pipeline(steps=[('ohe',transformer),('i',RandomUnderSampler()),('m',models[i])])\n",
    "    pipeline.fit(X_train,y_train)\n",
    "    y_pred = pipeline.predict(X_test)\n",
    "    y_prob = pipeline.predict_proba(X_test)[:,1]\n",
    "    roc=roc_auc_score(y_test,y_prob)\n",
    "    ap=average_precision_score(y_test,y_prob)\n",
    "    print(\"-------------------------------------------------------\")\n",
    "    print(names[i], \"ROC AUC: \",round(roc,3))\n",
    "    print(names[i], \"Avg Precision: \",round(ap,3))\n",
    "    print(classification_report(y_test, y_pred))\n",
    "    coefs=pipeline.named_steps['m'].feature_importances_.flatten()\n",
    "    fn=pipeline.named_steps['ohe'].get_feature_names()\n",
    "    fi.append(coefs)\n",
    "  return fi,fn\n",
    "feat,fname=q2RUS(models)"
   ]
  },
  {
   "cell_type": "code",
   "execution_count": 41,
   "id": "94643daf",
   "metadata": {
    "scrolled": false
   },
   "outputs": [
    {
     "name": "stdout",
     "output_type": "stream",
     "text": [
      "Edited Nearest Neighbors\n",
      "-------------------------------------------------------\n",
      "Decision Tree ROC AUC:  0.56\n",
      "Decision Tree Avg Precision:  0.066\n",
      "              precision    recall  f1-score   support\n",
      "\n",
      "           0       0.96      0.93      0.94      1213\n",
      "           1       0.13      0.18      0.15        65\n",
      "\n",
      "    accuracy                           0.90      1278\n",
      "   macro avg       0.54      0.56      0.55      1278\n",
      "weighted avg       0.91      0.90      0.90      1278\n",
      "\n",
      "-------------------------------------------------------\n",
      "Random Forest ROC AUC:  0.76\n",
      "Random Forest Avg Precision:  0.154\n",
      "              precision    recall  f1-score   support\n",
      "\n",
      "           0       0.95      0.99      0.97      1213\n",
      "           1       0.30      0.05      0.08        65\n",
      "\n",
      "    accuracy                           0.95      1278\n",
      "   macro avg       0.63      0.52      0.53      1278\n",
      "weighted avg       0.92      0.95      0.93      1278\n",
      "\n",
      "-------------------------------------------------------\n",
      "Gradient Boosting ROC AUC:  0.801\n",
      "Gradient Boosting Avg Precision:  0.146\n",
      "              precision    recall  f1-score   support\n",
      "\n",
      "           0       0.95      0.98      0.97      1213\n",
      "           1       0.10      0.03      0.05        65\n",
      "\n",
      "    accuracy                           0.94      1278\n",
      "   macro avg       0.52      0.51      0.51      1278\n",
      "weighted avg       0.91      0.94      0.92      1278\n",
      "\n"
     ]
    }
   ],
   "source": [
    "def q2ENN(models):\n",
    "  print(\"Edited Nearest Neighbors\")\n",
    "  fi=list()\n",
    "  for i in range(len(models)):\n",
    "    transformer=ColumnTransformer(transformers=[('ohe',OneHotEncoder(),categorical)],remainder='passthrough')\n",
    "    pipeline=imb_pipeline(steps=[('ohe',transformer),('i',EditedNearestNeighbours()),('m',models[i])])\n",
    "    pipeline.fit(X_train,y_train)\n",
    "    y_pred = pipeline.predict(X_test)\n",
    "    y_prob = pipeline.predict_proba(X_test)[:,1]\n",
    "    roc=roc_auc_score(y_test,y_prob)\n",
    "    ap=average_precision_score(y_test,y_prob)\n",
    "    print(\"-------------------------------------------------------\")\n",
    "    print(names[i], \"ROC AUC: \",round(roc,3))\n",
    "    print(names[i], \"Avg Precision: \",round(ap,3))\n",
    "    print(classification_report(y_test, y_pred))\n",
    "    coefs=pipeline.named_steps['m'].feature_importances_.flatten()\n",
    "    fn=pipeline.named_steps['ohe'].get_feature_names()\n",
    "    fi.append(coefs)\n",
    "  return fi,fn\n",
    "featENN,fnameENN=q2ENN(models)"
   ]
  },
  {
   "cell_type": "markdown",
   "id": "e7142781",
   "metadata": {},
   "source": [
    "**Q3.** \n",
    "---\n",
    "Find the important features using Random Forest and Gradient Boosting algorithms."
   ]
  },
  {
   "cell_type": "code",
   "execution_count": 42,
   "id": "8cd2d3d4",
   "metadata": {},
   "outputs": [
    {
     "data": {
      "text/plain": [
       "Text(0.5, 0, 'Feature Names')"
      ]
     },
     "execution_count": 42,
     "metadata": {},
     "output_type": "execute_result"
    },
    {
     "data": {
      "image/png": "[encoded data removed]",
      "text/plain": [
       "<Figure size 864x504 with 1 Axes>"
      ]
     },
     "metadata": {
      "needs_background": "light"
     },
     "output_type": "display_data"
    }
   ],
   "source": [
    "zipped=zip(fname,feat[1])\n",
    "dfeat=pd.DataFrame(zipped,columns=['feature','value'])\n",
    "dfeat['abs_value'] = dfeat['value'].apply(lambda x: abs(x))\n",
    "dfeat['colors'] = dfeat['value'].apply(lambda x: 'green' if x > 0 else 'red')\n",
    "dfeat = dfeat.sort_values('abs_value', ascending=False)\n",
    "fig, ax = plt.subplots(1, 1, figsize=(12, 7))\n",
    "sns.barplot(x='feature',y='value',data=dfeat,palette=dfeat[\"colors\"])\n",
    "ax.set_xticklabels(ax.get_xticklabels(), rotation=90)\n",
    "ax.set_title(\"Random Forest (w/ RUS)\", fontsize=25)\n",
    "ax.set_ylabel(\"Feature Importances\")\n",
    "ax.set_xlabel(\"Feature Names\")"
   ]
  },
  {
   "cell_type": "markdown",
   "id": "9f835fd2",
   "metadata": {},
   "source": [
    "Top 3 features from this model (Random Forest with Random Under Sampler):\n",
    "\n",
    "*   Age\n",
    "*   Bmi\n",
    "*   Glucose level"
   ]
  },
  {
   "cell_type": "code",
   "execution_count": 43,
   "id": "a605273a",
   "metadata": {
    "scrolled": false
   },
   "outputs": [
    {
     "data": {
      "text/plain": [
       "Text(0.5, 0, 'Feature Names')"
      ]
     },
     "execution_count": 43,
     "metadata": {},
     "output_type": "execute_result"
    },
    {
     "data": {
      "image/png": "[encoded data removed]",
      "text/plain": [
       "<Figure size 864x504 with 1 Axes>"
      ]
     },
     "metadata": {
      "needs_background": "light"
     },
     "output_type": "display_data"
    }
   ],
   "source": [
    "zipped=zip(fname,feat[2])\n",
    "dfeat=pd.DataFrame(zipped,columns=['feature','value'])\n",
    "dfeat['abs_value'] = dfeat['value'].apply(lambda x: abs(x))\n",
    "dfeat['colors'] = dfeat['value'].apply(lambda x: 'green' if x > 0 else 'red')\n",
    "dfeat = dfeat.sort_values('abs_value', ascending=False)\n",
    "fig, ax = plt.subplots(1, 1, figsize=(12, 7))\n",
    "sns.barplot(x='feature',y='value',data=dfeat,palette=dfeat[\"colors\"])\n",
    "ax.set_xticklabels(ax.get_xticklabels(), rotation=90)\n",
    "ax.set_title(\"Gradient Boosting (w/ RUS)\", fontsize=20)\n",
    "ax.set_ylabel(\"Feature Importances\")\n",
    "ax.set_xlabel(\"Feature Names\")"
   ]
  },
  {
   "cell_type": "markdown",
   "id": "a7cc5270",
   "metadata": {},
   "source": [
    "Top 5 features from this model (Gradient Boosting with Random Under Sampler):\n",
    "\n",
    "*   Age\n",
    "*   Bmi\n",
    "*   Glucose level"
   ]
  },
  {
   "cell_type": "code",
   "execution_count": 44,
   "id": "09f72078",
   "metadata": {
    "scrolled": false
   },
   "outputs": [
    {
     "data": {
      "text/plain": [
       "Text(0.5, 0, 'Feature Names')"
      ]
     },
     "execution_count": 44,
     "metadata": {},
     "output_type": "execute_result"
    },
    {
     "data": {
      "image/png": "[encoded data removed]",
      "text/plain": [
       "<Figure size 864x504 with 1 Axes>"
      ]
     },
     "metadata": {
      "needs_background": "light"
     },
     "output_type": "display_data"
    }
   ],
   "source": [
    "zipped=zip(fnameENN,featENN[1])\n",
    "dfeat=pd.DataFrame(zipped,columns=['feature','value'])\n",
    "dfeat['abs_value'] = dfeat['value'].apply(lambda x: abs(x))\n",
    "dfeat['colors'] = dfeat['value'].apply(lambda x: 'green' if x > 0 else 'red')\n",
    "dfeat = dfeat.sort_values('abs_value', ascending=False)\n",
    "fig, ax = plt.subplots(1, 1, figsize=(12, 7))\n",
    "sns.barplot(x='feature',y='value',data=dfeat,palette=dfeat[\"colors\"])\n",
    "ax.set_xticklabels(ax.get_xticklabels(), rotation=90)\n",
    "ax.set_title(\"Random Forest (w/ ENN)\", fontsize=25)\n",
    "ax.set_ylabel(\"Feature Importances\")\n",
    "ax.set_xlabel(\"Feature Names\")"
   ]
  },
  {
   "cell_type": "markdown",
   "id": "bb5ec280",
   "metadata": {},
   "source": [
    "Top 3 features from this model (Random Forest with Edited Nearest Neighbors):\n",
    "\n",
    "*   Age\n",
    "*   Glucose level\n",
    "*   Bmi"
   ]
  },
  {
   "cell_type": "code",
   "execution_count": 45,
   "id": "cf21dddb",
   "metadata": {},
   "outputs": [
    {
     "data": {
      "text/plain": [
       "Text(0.5, 0, 'Feature Names')"
      ]
     },
     "execution_count": 45,
     "metadata": {},
     "output_type": "execute_result"
    },
    {
     "data": {
      "image/png": "[encoded data removed]",
      "text/plain": [
       "<Figure size 864x504 with 1 Axes>"
      ]
     },
     "metadata": {
      "needs_background": "light"
     },
     "output_type": "display_data"
    }
   ],
   "source": [
    "zipped=zip(fnameENN,featENN[2])\n",
    "dfeat=pd.DataFrame(zipped,columns=['feature','value'])\n",
    "dfeat['abs_value'] = dfeat['value'].apply(lambda x: abs(x))\n",
    "dfeat['colors'] = dfeat['value'].apply(lambda x: 'green' if x > 0 else 'red')\n",
    "dfeat = dfeat.sort_values('abs_value', ascending=False)\n",
    "fig, ax = plt.subplots(1, 1, figsize=(12, 7))\n",
    "sns.barplot(x='feature',y='value',data=dfeat,palette=dfeat[\"colors\"])\n",
    "ax.set_xticklabels(ax.get_xticklabels(), rotation=90)\n",
    "ax.set_title(\"Gradient Boosting (w/ ENN)\", fontsize=25)\n",
    "ax.set_ylabel(\"Feature Importances\")\n",
    "ax.set_xlabel(\"Feature Names\")"
   ]
  },
  {
   "cell_type": "markdown",
   "id": "322751be",
   "metadata": {},
   "source": [
    "Top 3 features from this model (Gradient Boosting with Edited Nearest Neighbors):\n",
    "\n",
    "*   Age\n",
    "*   Glucose level\n",
    "*   Bmi"
   ]
  },
  {
   "cell_type": "markdown",
   "id": "9c992b2e",
   "metadata": {},
   "source": [
    "The four models above have the same top three features and those are Age, Glucose level and Bmi and from our exploratory analysis earlier, these factors have the highest correlations in telling if patients are going to experience a stroke."
   ]
  },
  {
   "cell_type": "markdown",
   "id": "a21941a4",
   "metadata": {},
   "source": [
    "---\n",
    "**Brief summary on how different balancing techniques affected the performance of the models**\n",
    "\n",
    "\n",
    "Models |Imbalanced | SMOTE | ROS | RUS | ENN\n",
    "-------------------|-------------------|------------------ |------------------ |------------------ |------------------\n",
    "**Decision Tree**| *ROC*: 0.566, *AP*: 0.0757 |0.575, 0.076 | 0.561, 0.074 | 0.655, 0.081 | 0.56, 0.066\n",
    "**Random Forest**| *ROC*: 0.786, *AP*: 0.184 | 0.699, 0.103 | 0.745, 0.115 | 0.781, 0.145 | 0.75, 0.154 \n",
    "**Gradient Boosting**| *ROC*: 0.835, *AP*: 0.226 | 0.776, 0.142 | 0.794, 0.152 | 0.791, 0.14 | 0.801, 0.146 \n",
    "\n",
    "\n",
    "---\n"
   ]
  },
  {
   "cell_type": "markdown",
   "id": "faf8ecec",
   "metadata": {},
   "source": [
    "-----------------------\n",
    "References:\n",
    "\n",
    "https://stackoverflow.com/questions/55104819/display-count-on-top-of-seaborn-barplot\n",
    "\n",
    "https://mode.com/python-tutorial/counting-and-plotting-in-python/\n",
    "\n",
    "https://stackoverflow.com/questions/332289/how-do-you-change-the-size-of-figures-drawn-with-matplotlib\n",
    "\n",
    "https://towardsdatascience.com/how-to-deal-with-missing-data-in-python-1f74a9112d93\n",
    "\n",
    "https://medium.com/@lily_su/confusion-matrix-roc-auc-and-imbalanced-classes-in-logistic-regression-5c7ead3deefc\n",
    "\n",
    "https://towardsdatascience.com/how-to-get-feature-importances-from-any-sklearn-pipeline-167a19f1214\n"
   ]
  }
 ],
 "metadata": {
  "kernelspec": {
   "display_name": "Python 3 (ipykernel)",
   "language": "python",
   "name": "python3"
  },
  "language_info": {
   "codemirror_mode": {
    "name": "ipython",
    "version": 3
   },
   "file_extension": ".py",
   "mimetype": "text/x-python",
   "name": "python",
   "nbconvert_exporter": "python",
   "pygments_lexer": "ipython3",
   "version": "3.9.12"
  }
 },
 "nbformat": 4,
 "nbformat_minor": 5
}
